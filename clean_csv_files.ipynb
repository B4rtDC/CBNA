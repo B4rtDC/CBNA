{
 "cells": [
  {
   "cell_type": "code",
   "execution_count": 36,
   "metadata": {},
   "outputs": [],
   "source": [
    "import pandas as pd\n",
    "import networkx as nx\n",
    "import matplotlib.pyplot as plt\n",
    "import numpy as np\n",
    "from scipy import stats"
   ]
  },
  {
   "cell_type": "code",
   "execution_count": 51,
   "metadata": {},
   "outputs": [],
   "source": [
    "flights = pd.read_csv(\"flights.csv\", usecols=['DAY','MONTH','YEAR','AIRLINE','ARRIVAL_DELAY','DEPARTURE_DELAY'])\n",
    "month_filter = flights[\"MONTH\"] == 2\n",
    "day_filter1 = flights[\"DAY\"] > 15\n",
    "day_filter2 =  flights[\"DAY\"] < 25\n",
    "all_filters = day_filter1 & day_filter2 & month_filter\n",
    "#c = a[month_filter]\n",
    "flights = flights[all_filters]\n",
    "flights = flights.rename(columns={'AIRLINE': 'airline'})\n",
    "#flights.head()\n",
    "#print(flights)"
   ]
  },
  {
   "cell_type": "code",
   "execution_count": 52,
   "metadata": {},
   "outputs": [
    {
     "data": {
      "text/html": [
       "<div>\n",
       "<style scoped>\n",
       "    .dataframe tbody tr th:only-of-type {\n",
       "        vertical-align: middle;\n",
       "    }\n",
       "\n",
       "    .dataframe tbody tr th {\n",
       "        vertical-align: top;\n",
       "    }\n",
       "\n",
       "    .dataframe thead th {\n",
       "        text-align: right;\n",
       "    }\n",
       "</style>\n",
       "<table border=\"1\" class=\"dataframe\">\n",
       "  <thead>\n",
       "    <tr style=\"text-align: right;\">\n",
       "      <th></th>\n",
       "      <th>airline</th>\n",
       "      <th>DEPARTURE_DELAY</th>\n",
       "      <th>ARRIVAL_DELAY</th>\n",
       "      <th>date</th>\n",
       "    </tr>\n",
       "  </thead>\n",
       "  <tbody>\n",
       "    <tr>\n",
       "      <th>695436</th>\n",
       "      <td>AA</td>\n",
       "      <td>-2.0</td>\n",
       "      <td>-4.0</td>\n",
       "      <td>2015-02-16</td>\n",
       "    </tr>\n",
       "    <tr>\n",
       "      <th>695437</th>\n",
       "      <td>DL</td>\n",
       "      <td>-6.0</td>\n",
       "      <td>-15.0</td>\n",
       "      <td>2015-02-16</td>\n",
       "    </tr>\n",
       "    <tr>\n",
       "      <th>695438</th>\n",
       "      <td>DL</td>\n",
       "      <td>5.0</td>\n",
       "      <td>24.0</td>\n",
       "      <td>2015-02-16</td>\n",
       "    </tr>\n",
       "    <tr>\n",
       "      <th>695439</th>\n",
       "      <td>US</td>\n",
       "      <td>-2.0</td>\n",
       "      <td>-19.0</td>\n",
       "      <td>2015-02-16</td>\n",
       "    </tr>\n",
       "    <tr>\n",
       "      <th>695440</th>\n",
       "      <td>AA</td>\n",
       "      <td>0.0</td>\n",
       "      <td>-6.0</td>\n",
       "      <td>2015-02-16</td>\n",
       "    </tr>\n",
       "  </tbody>\n",
       "</table>\n",
       "</div>"
      ],
      "text/plain": [
       "       airline  DEPARTURE_DELAY  ARRIVAL_DELAY       date\n",
       "695436      AA             -2.0           -4.0 2015-02-16\n",
       "695437      DL             -6.0          -15.0 2015-02-16\n",
       "695438      DL              5.0           24.0 2015-02-16\n",
       "695439      US             -2.0          -19.0 2015-02-16\n",
       "695440      AA              0.0           -6.0 2015-02-16"
      ]
     },
     "execution_count": 52,
     "metadata": {},
     "output_type": "execute_result"
    }
   ],
   "source": [
    "#date = flights['MONTH'] +' '+flights['YEAR'] \n",
    "flights['date'] = pd.to_datetime(flights[['YEAR', 'MONTH', 'DAY']])\n",
    "#flights.drop(flights.columns[[0, 1, 2]], axis=1)\n",
    "flights = flights.drop([\"YEAR\", \"MONTH\", \"DAY\"], axis=1)\n",
    "\n",
    "\n",
    "flights.to_csv(r'flights_converted.csv')\n",
    "\n",
    "flights.head()\n",
    "#from dateutil import parser\n",
    "#dt = parser.parse(\"Aug 28 1999 12:00AM\")\n",
    "\n",
    "#pd.to_datetime(flights['Mycol'])"
   ]
  },
  {
   "cell_type": "code",
   "execution_count": 53,
   "metadata": {},
   "outputs": [
    {
     "data": {
      "text/plain": [
       "array(['Virgin America', 'United', 'Southwest', 'Delta', 'US Airways',\n",
       "       'American'], dtype=object)"
      ]
     },
     "execution_count": 53,
     "metadata": {},
     "output_type": "execute_result"
    }
   ],
   "source": [
    "twitter = pd.read_csv(\"Tweets.csv\",usecols=['airline_sentiment','airline','tweet_created'])\n",
    "twitter['tweet_created'] = pd.to_datetime(twitter['tweet_created']).dt.date\n",
    "twitter.head()\n",
    "\n",
    "twitter['airline'].unique()\n",
    "#b[\"airline_sentiment\"].head()"
   ]
  },
  {
   "cell_type": "code",
   "execution_count": 54,
   "metadata": {},
   "outputs": [
    {
     "data": {
      "text/html": [
       "<div>\n",
       "<style scoped>\n",
       "    .dataframe tbody tr th:only-of-type {\n",
       "        vertical-align: middle;\n",
       "    }\n",
       "\n",
       "    .dataframe tbody tr th {\n",
       "        vertical-align: top;\n",
       "    }\n",
       "\n",
       "    .dataframe thead th {\n",
       "        text-align: right;\n",
       "    }\n",
       "</style>\n",
       "<table border=\"1\" class=\"dataframe\">\n",
       "  <thead>\n",
       "    <tr style=\"text-align: right;\">\n",
       "      <th></th>\n",
       "      <th>airline_sentiment</th>\n",
       "      <th>airline</th>\n",
       "      <th>date</th>\n",
       "    </tr>\n",
       "  </thead>\n",
       "  <tbody>\n",
       "    <tr>\n",
       "      <th>0</th>\n",
       "      <td>neutral</td>\n",
       "      <td>VX</td>\n",
       "      <td>2015-02-24</td>\n",
       "    </tr>\n",
       "    <tr>\n",
       "      <th>1</th>\n",
       "      <td>positive</td>\n",
       "      <td>VX</td>\n",
       "      <td>2015-02-24</td>\n",
       "    </tr>\n",
       "    <tr>\n",
       "      <th>2</th>\n",
       "      <td>neutral</td>\n",
       "      <td>VX</td>\n",
       "      <td>2015-02-24</td>\n",
       "    </tr>\n",
       "    <tr>\n",
       "      <th>3</th>\n",
       "      <td>negative</td>\n",
       "      <td>VX</td>\n",
       "      <td>2015-02-24</td>\n",
       "    </tr>\n",
       "    <tr>\n",
       "      <th>4</th>\n",
       "      <td>negative</td>\n",
       "      <td>VX</td>\n",
       "      <td>2015-02-24</td>\n",
       "    </tr>\n",
       "  </tbody>\n",
       "</table>\n",
       "</div>"
      ],
      "text/plain": [
       "  airline_sentiment airline        date\n",
       "0           neutral      VX  2015-02-24\n",
       "1          positive      VX  2015-02-24\n",
       "2           neutral      VX  2015-02-24\n",
       "3          negative      VX  2015-02-24\n",
       "4          negative      VX  2015-02-24"
      ]
     },
     "execution_count": 54,
     "metadata": {},
     "output_type": "execute_result"
    }
   ],
   "source": [
    "import pandas as pd\n",
    "\n",
    "#data = [['Austria', 'Germany', 'hob', 'Australia'], ['Spain', 'France', 'Italy', 'Mexico']]\n",
    "\n",
    "#df = pd.DataFrame(data, columns = ['A','B','C','D'])\n",
    "\n",
    "# Values to find and their replacements\n",
    "replaceL = ['UA', 'AA', 'VX', 'WN','DL','US']\n",
    "findL = ['United', 'American', 'Virgin America', 'Southwest','Delta','US Airways']\n",
    "\n",
    "# Select column (can be A,B,C,D)\n",
    "col = 'airline';\n",
    "\n",
    "twitter = twitter.rename(columns={'tweet_created': 'date'})\n",
    "\n",
    "# Find and replace values in the selected column\n",
    "twitter[col] = twitter[col].replace(findL, replaceL)\n",
    "twitter['airline'].unique()\n",
    "twitter.head()"
   ]
  },
  {
   "cell_type": "code",
   "execution_count": 55,
   "metadata": {},
   "outputs": [],
   "source": [
    "twitter.to_csv(r'twitter_converted.csv')"
   ]
  },
  {
   "cell_type": "code",
   "execution_count": null,
   "metadata": {},
   "outputs": [],
   "source": [
    "dummy_data1 = {\n",
    "        'id': ['1', '2', '3', '4', '5'],\n",
    "        'Feature1': ['A', 'C', 'E', 'G', 'I'],\n",
    "        'Feature2': ['B', 'D', 'F', 'H', 'J']}\n",
    "\n"
   ]
  }
 ],
 "metadata": {
  "kernelspec": {
   "display_name": "Python 2",
   "language": "python",
   "name": "python2"
  },
  "language_info": {
   "codemirror_mode": {
    "name": "ipython",
    "version": 2
   },
   "file_extension": ".py",
   "mimetype": "text/x-python",
   "name": "python",
   "nbconvert_exporter": "python",
   "pygments_lexer": "ipython2",
   "version": "2.7.16"
  }
 },
 "nbformat": 4,
 "nbformat_minor": 2
}
