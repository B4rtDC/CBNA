{
 "cells": [
  {
   "cell_type": "code",
   "execution_count": 1,
   "metadata": {},
   "outputs": [],
   "source": [
    "import pandas as pd\n",
    "import networkx as nx\n",
    "import matplotlib.pyplot as plt\n",
    "import numpy as np\n",
    "from scipy import stats"
   ]
  },
  {
   "cell_type": "markdown",
   "metadata": {},
   "source": [
    "# Function 'get_transition_matrix' and its test"
   ]
  },
  {
   "cell_type": "code",
   "execution_count": 2,
   "metadata": {},
   "outputs": [],
   "source": [
    "test_vector = np.array([0, 1, 1, 1, 0, 0, 1])\n",
    "answer = np.array([[1./3,2./3],[1./3,2./3]])"
   ]
  },
  {
   "cell_type": "code",
   "execution_count": 3,
   "metadata": {},
   "outputs": [],
   "source": [
    "# plane_delays is a vector of 0s and 1s\n",
    "def get_transition_matrix(plane_delays):\n",
    "    mat = np.zeros((2,2))\n",
    "    for i in range(0,len(plane_delays)-1):\n",
    "        mat[plane_delays[i],plane_delays[i+1]] += 1\n",
    "    return np.array([row/sum(row) for row in mat])"
   ]
  },
  {
   "cell_type": "code",
   "execution_count": 4,
   "metadata": {},
   "outputs": [
    {
     "data": {
      "text/plain": [
       "True"
      ]
     },
     "execution_count": 4,
     "metadata": {},
     "output_type": "execute_result"
    }
   ],
   "source": [
    "assert((answer == get_transition_matrix(test_vector)).all())\n",
    "(answer == get_transition_matrix(test_vector)).all()"
   ]
  },
  {
   "cell_type": "markdown",
   "metadata": {},
   "source": [
    "# Functions 'randomize_delays' and \n",
    "# 'get_pvalue_transition_matrix' and some testing"
   ]
  },
  {
   "cell_type": "code",
   "execution_count": 39,
   "metadata": {},
   "outputs": [],
   "source": [
    "#plane_delays is np.array if it is only one series of delays or a list of np.arrays if it contains more. \n",
    "#It should be however from a single plane\n",
    "def randomize_delays(plane_delays):\n",
    "    if isinstance(plane_delays,np.ndarray):\n",
    "        new_plane_delays = np.copy(plane_delays)\n",
    "    elif isinstance(plane_delays,list):\n",
    "        pass #this is needed when there are multilpe series for single plane\n",
    "    np.random.shuffle(new_plane_delays)\n",
    "    return new_plane_delays"
   ]
  },
  {
   "cell_type": "code",
   "execution_count": 85,
   "metadata": {},
   "outputs": [],
   "source": [
    "#plane_delays is a list or numpy.array of plane delays, repetitions is number of randomization runs. \n",
    "#The smallest p-value is 2/repetitions\n",
    "#Large p-value indicates a result is same as random. \n",
    "def get_pvalue_transition_matrix(plane_delays, repetitions=100):\n",
    "    trans_mat = get_transition_matrix(plane_delays)\n",
    "    vals_larger = np.zeros(trans_mat.shape)\n",
    "    for i in range(0, repetitions):\n",
    "        new_seq = randomize_delays(plane_delays)\n",
    "        rand_trans_mat = get_transition_matrix(new_seq)\n",
    "        #below is a 'method' that gives 1 if real is larger then random, 0.5 if they are equal and 0 if they are different\n",
    "        vals_larger += (np.sign(trans_mat - rand_trans_mat)+1)/2\n",
    "    vals_larger /= repetitions\n",
    "    pvals = np.array([2*min(x,1-x) for x in np.nditer(vals_larger)]).reshape(vals_larger.shape)\n",
    "    return pvals"
   ]
  },
  {
   "cell_type": "code",
   "execution_count": null,
   "metadata": {},
   "outputs": [],
   "source": [
    "# Below is code for working"
   ]
  },
  {
   "cell_type": "code",
   "execution_count": 105,
   "metadata": {},
   "outputs": [
    {
     "name": "stdout",
     "output_type": "stream",
     "text": [
      "[[0.00000000e+00 1.11022302e-16]\n",
      " [0.00000000e+00 0.00000000e+00]]\n",
      "[[ True  True]\n",
      " [ True  True]]\n"
     ]
    }
   ],
   "source": [
    "#test for get_pvalue_transition_matrix\n",
    "np.random.seed(0)\n",
    "test_vector = np.array([0, 1, 1, 1, 0, 0, 1])\n",
    "expected_pvals = np.array([[0.91,0.91],[0.5,0.5]])\n",
    "\n",
    "pvals = get_pvalue_transition_matrix(test_vector)\n",
    "\n",
    "print(expected_pvals-pvals)\n",
    "print(np.isclose(pvals,expected_pvals))\n",
    "\n",
    "assert(np.isclose(pvals,expected_pvals).all())"
   ]
  },
  {
   "cell_type": "code",
   "execution_count": 25,
   "metadata": {},
   "outputs": [
    {
     "name": "stdout",
     "output_type": "stream",
     "text": [
      "True\n",
      "True\n",
      "[0 1 1 1 0 0 1]\n",
      "[1 0 1 0 1 0 1]\n"
     ]
    }
   ],
   "source": [
    "test_vector2 = [test_vector, np.array([1,1,1,0,0,0,0,1,1])]\n",
    "print(isinstance(test_vector,np.ndarray))\n",
    "print(isinstance(test_vector2,list))\n",
    "#new_plane_delays = np.copy(test_vector).reshape()\n",
    "new_plane_delays = np.copy(test_vector)\n",
    "np.random.shuffle(new_plane_delays)\n",
    "print(test_vector)\n",
    "print(new_plane_delays)"
   ]
  },
  {
   "cell_type": "code",
   "execution_count": 96,
   "metadata": {},
   "outputs": [
    {
     "name": "stdout",
     "output_type": "stream",
     "text": [
      "[[0.455 0.545]\n",
      " [0.25  0.75 ]]\n",
      "[[0.91 0.91]\n",
      " [0.5  0.5 ]]\n"
     ]
    }
   ],
   "source": [
    "np.random.seed(0)\n",
    "repetitions=100\n",
    "trans_mat = get_transition_matrix(test_vector)\n",
    "vals_larger = np.zeros(trans_mat.shape)\n",
    "for i in range(0, repetitions):\n",
    "    new_seq = randomize_delays(test_vector)\n",
    "    rand_trans_mat = get_transition_matrix(new_seq)\n",
    "    vals_larger += (np.sign(trans_mat - rand_trans_mat)+1)/2\n",
    "vals_larger /= repetitions\n",
    "print(vals_larger)\n",
    "pvals = np.array([2*min(x,1-x) for x in np.nditer(vals_larger)]).reshape(vals_larger.shape)\n",
    "print(pvals)"
   ]
  },
  {
   "cell_type": "code",
   "execution_count": 90,
   "metadata": {},
   "outputs": [
    {
     "data": {
      "text/plain": [
       "array([[0.92, 0.92],\n",
       "       [0.49, 0.49]])"
      ]
     },
     "execution_count": 90,
     "metadata": {},
     "output_type": "execute_result"
    }
   ],
   "source": [
    "np.round(pvals*100)/100"
   ]
  },
  {
   "cell_type": "code",
   "execution_count": 106,
   "metadata": {},
   "outputs": [],
   "source": [
    "?np.all"
   ]
  },
  {
   "cell_type": "code",
   "execution_count": null,
   "metadata": {},
   "outputs": [],
   "source": []
  }
 ],
 "metadata": {
  "kernelspec": {
   "display_name": "Python 3",
   "language": "python",
   "name": "python3"
  },
  "language_info": {
   "codemirror_mode": {
    "name": "ipython",
    "version": 3
   },
   "file_extension": ".py",
   "mimetype": "text/x-python",
   "name": "python",
   "nbconvert_exporter": "python",
   "pygments_lexer": "ipython3",
   "version": "3.6.8"
  }
 },
 "nbformat": 4,
 "nbformat_minor": 2
}
